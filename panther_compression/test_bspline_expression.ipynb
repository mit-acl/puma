{
 "cells": [
  {
   "cell_type": "code",
   "execution_count": 2,
   "metadata": {},
   "outputs": [],
   "source": [
    "\n",
    "import sympy as sp\n",
    "from sympy import init_printing, simplify, expand\n"
   ]
  },
  {
   "cell_type": "code",
   "execution_count": 3,
   "metadata": {},
   "outputs": [
    {
     "name": "stdout",
     "output_type": "stream",
     "text": [
      "V_i = \n"
     ]
    },
    {
     "data": {
      "image/png": "[encoded data removed]",
      "text/latex": [
       "$\\displaystyle \\frac{p \\left(- P_{i} + P_{i+1}\\right)}{- t_{i+1} + t_{i+p+1}}$"
      ],
      "text/plain": [
       " p⋅(-Pᵢ + P_{i+1})  \n",
       "────────────────────\n",
       "-t_{i+1} + t_{i+p+1}"
      ]
     },
     "metadata": {},
     "output_type": "display_data"
    },
    {
     "name": "stdout",
     "output_type": "stream",
     "text": [
      "A_i = \n"
     ]
    },
    {
     "data": {
      "image/png": "[encoded data removed]",
      "text/latex": [
       "$\\displaystyle \\frac{P_{i+2} p \\left(p - 1\\right)}{\\left(t_{i+2} - t_{i+p+1}\\right) \\left(t_{i+2} - t_{i+p+2}\\right)}$"
      ],
      "text/plain": [
       "             P_{i+2}⋅p⋅(p - 1)             \n",
       "───────────────────────────────────────────\n",
       "(t_{i+2} - t_{i+p+1})⋅(t_{i+2} - t_{i+p+2})"
      ]
     },
     "metadata": {},
     "output_type": "display_data"
    },
    {
     "name": "stdout",
     "output_type": "stream",
     "text": [
      "J_i = \n"
     ]
    },
    {
     "data": {
      "image/png": "[encoded data removed]",
      "text/latex": [
       "$\\displaystyle - \\frac{P_{i+1} p \\left(p - 2\\right) \\left(p - 1\\right) \\left(\\left(t_{i+1} - t_{i+p+1}\\right) \\left(t_{i+2} - t_{i+p+1}\\right) + \\left(t_{i+3} - t_{i+p+2}\\right) \\left(t_{i+1} + t_{i+2} - t_{i+p+1} - t_{i+p+2}\\right)\\right)}{\\left(t_{i+1} - t_{i+p+1}\\right) \\left(t_{i+2} - t_{i+p+1}\\right) \\left(t_{i+2} - t_{i+p+2}\\right) \\left(t_{i+3} - t_{i+p+1}\\right) \\left(t_{i+3} - t_{i+p+2}\\right)}$"
      ],
      "text/plain": [
       "-P_{i+1}⋅p⋅(p - 2)⋅(p - 1)⋅((t_{i+1} - t_{i+p+1})⋅(t_{i+2} - t_{i+p+1}) + (t_{\n",
       "──────────────────────────────────────────────────────────────────────────────\n",
       "                (t_{i+1} - t_{i+p+1})⋅(t_{i+2} - t_{i+p+1})⋅(t_{i+2} - t_{i+p+\n",
       "\n",
       "i+3} - t_{i+p+2})⋅(t_{i+1} + t_{i+2} - t_{i+p+1} - t_{i+p+2})) \n",
       "───────────────────────────────────────────────────────────────\n",
       "2})⋅(t_{i+3} - t_{i+p+1})⋅(t_{i+3} - t_{i+p+2})                "
      ]
     },
     "metadata": {},
     "output_type": "display_data"
    }
   ],
   "source": [
    "\n",
    "# define the symbols for V_i\n",
    "P_i_3 = sp.Symbol('P_{i+3}')\n",
    "P_i_2 = sp.Symbol('P_{i+2}')\n",
    "P_i_1 = sp.Symbol('P_{i+1}')\n",
    "P_i = sp.Symbol('P_i')\n",
    "p = sp.Symbol('p')\n",
    "t_i_p_1 = sp.Symbol('t_{i+p+1}')\n",
    "t_i_1 = sp.Symbol('t_{i+1}')\n",
    "V_i = p * (P_i_1 - P_i)/(t_i_p_1 - t_i_1)\n",
    "\n",
    "# define the symbols for A_i\n",
    "t_i_2 = sp.Symbol('t_{i+2}')\n",
    "t_i_p_2 = sp.Symbol('t_{i+p+2}')\n",
    "V_i_1 = p * (P_i_2 - P_i_1)/(t_i_p_2 - t_i_2)\n",
    "A_i = (p-1) / (t_i_p_1 - t_i_2) * (V_i_1 - V_i)\n",
    "\n",
    "# define the symbols for J_i\n",
    "t_i_3 = sp.Symbol('t_{i+3}')\n",
    "t_i_p_3 = sp.Symbol('t_{i+p+3}')\n",
    "V_i_2 = p * (P_i_3 - P_i_2)/(t_i_p_3 - t_i_3)\n",
    "A_i_1 = (p-1) / (t_i_p_2 - t_i_3) * (V_i_2 - V_i_1)\n",
    "J_i = (p-2) / (t_i_p_1 - t_i_3) * (A_i_1 - A_i)\n",
    "\n",
    "# print the result\n",
    "init_printing(use_unicode=True)\n",
    "print('V_i = ')\n",
    "display(V_i)\n",
    "\n",
    "print('A_i = ')\n",
    "# just replace P_i_2 with 0\n",
    "A_i = A_i.subs(P_i_3, 0).subs(P_i_1, 0).subs(P_i, 0)\n",
    "display(simplify(A_i))\n",
    "\n",
    "print('J_i = ')\n",
    "J_i = J_i.subs(P_i_3, 0).subs(P_i_2, 0).subs(P_i, 0)\n",
    "display(simplify(J_i))"
   ]
  },
  {
   "cell_type": "code",
   "execution_count": null,
   "metadata": {},
   "outputs": [],
   "source": []
  }
 ],
 "metadata": {
  "kernelspec": {
   "display_name": "Python 3",
   "language": "python",
   "name": "python3"
  },
  "language_info": {
   "codemirror_mode": {
    "name": "ipython",
    "version": 3
   },
   "file_extension": ".py",
   "mimetype": "text/x-python",
   "name": "python",
   "nbconvert_exporter": "python",
   "pygments_lexer": "ipython3",
   "version": "3.8.10"
  }
 },
 "nbformat": 4,
 "nbformat_minor": 2
}
